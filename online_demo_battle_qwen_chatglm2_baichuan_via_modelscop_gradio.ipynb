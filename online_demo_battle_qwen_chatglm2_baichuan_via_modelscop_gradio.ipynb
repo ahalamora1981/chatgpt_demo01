{
  "cells": [
    {
      "cell_type": "markdown",
      "metadata": {
        "id": "view-in-github",
        "colab_type": "text"
      },
      "source": [
        "<a href=\"https://colab.research.google.com/github/ahalamora1981/chatgpt_demo01/blob/main/online_demo_battle_qwen_chatglm2_baichuan_via_modelscop_gradio.ipynb\" target=\"_parent\"><img src=\"https://colab.research.google.com/assets/colab-badge.svg\" alt=\"Open In Colab\"/></a>"
      ]
    },
    {
      "cell_type": "code",
      "source": [
        "!pip install gradio_client"
      ],
      "metadata": {
        "id": "lxmcFSXDMxNM"
      },
      "id": "lxmcFSXDMxNM",
      "execution_count": null,
      "outputs": []
    },
    {
      "cell_type": "code",
      "execution_count": null,
      "id": "c0f28580",
      "metadata": {
        "id": "c0f28580"
      },
      "outputs": [],
      "source": [
        "from gradio_client import Client\n",
        "import concurrent.futures"
      ]
    },
    {
      "cell_type": "code",
      "execution_count": null,
      "id": "782496b5",
      "metadata": {
        "colab": {
          "base_uri": "https://localhost:8080/"
        },
        "id": "782496b5",
        "outputId": "85361385-acb0-4af9-aa2c-02a06f30ff20"
      },
      "outputs": [
        {
          "output_type": "stream",
          "name": "stdout",
          "text": [
            "Loaded as API: https://modelscope.cn/api/v1/studio/qwen/Qwen-7B-Chat-Demo/gradio/ ✔\n",
            "Loaded as API: https://modelscope.cn/api/v1/studio/AI-ModelScope/ChatGLM6B-unofficial/gradio/ ✔\n",
            "Loaded as API: https://modelscope.cn/api/v1/studio/baichuan-inc/Baichuan-13B-Chatdemo/gradio/ ✔\n"
          ]
        }
      ],
      "source": [
        "qwen_client = Client(\"https://modelscope.cn/api/v1/studio/qwen/Qwen-7B-Chat-Demo/gradio/\")\n",
        "chatglm2_client = Client(\"https://modelscope.cn/api/v1/studio/AI-ModelScope/ChatGLM6B-unofficial/gradio/\")\n",
        "baichuan_client = Client(\"https://modelscope.cn/api/v1/studio/baichuan-inc/Baichuan-13B-Chatdemo/gradio/\")"
      ]
    },
    {
      "cell_type": "code",
      "execution_count": null,
      "id": "0dd3612a",
      "metadata": {
        "id": "0dd3612a"
      },
      "outputs": [],
      "source": [
        "# 去除非UTF-8的字符\n",
        "def remove_non_utf8_chars(input_str):\n",
        "    # 先将字符串编码为字节对象，忽略无效字符\n",
        "    encoded_str = input_str.encode('utf-8', 'ignore')\n",
        "    # 再将字节对象解码回字符串\n",
        "    return encoded_str.decode('utf-8')"
      ]
    },
    {
      "cell_type": "markdown",
      "id": "99530ff5",
      "metadata": {
        "heading_collapsed": true,
        "id": "99530ff5"
      },
      "source": [
        "# 验证去除非UTF-8字符的效果"
      ]
    },
    {
      "cell_type": "code",
      "execution_count": null,
      "id": "f21fa52f",
      "metadata": {
        "hidden": true,
        "id": "f21fa52f"
      },
      "outputs": [],
      "source": [
        "json_path = result[1]"
      ]
    },
    {
      "cell_type": "code",
      "execution_count": null,
      "id": "bb326342",
      "metadata": {
        "hidden": true,
        "id": "bb326342",
        "outputId": "0418ad48-2c3f-485a-b884-37e955f7ad72"
      },
      "outputs": [
        {
          "data": {
            "text/plain": [
              "'[[\"\\\\u4f60\\\\u597d\", \"\\\\u4f60\\\\u597d\\\\ud83d\\\\udc4b\\\\uff01\\\\u6211\\\\u662f\\\\u4eba\\\\u5de5\\\\u667a\\\\u80fd\\\\u52a9\\\\u624b ChatGLM2-6B\\\\uff0c\\\\u5f88\\\\u9ad8\\\\u5174\\\\u89c1\\\\u5230\\\\u4f60\\\\uff0c\\\\u6b22\\\\u8fce\\\\u95ee\\\\u6211\\\\u4efb\\\\u4f55\\\\u95ee\\\\u9898\\\\u3002\"]]'"
            ]
          },
          "execution_count": 58,
          "metadata": {},
          "output_type": "execute_result"
        }
      ],
      "source": [
        "with open (json_path, 'r') as f:\n",
        "    data = f.read()\n",
        "data"
      ]
    },
    {
      "cell_type": "code",
      "execution_count": null,
      "id": "d5bd331f",
      "metadata": {
        "hidden": true,
        "id": "d5bd331f",
        "outputId": "f3fcb789-c00e-46a5-8f24-b563a434f019"
      },
      "outputs": [
        {
          "data": {
            "text/plain": [
              "[['你好', '你好\\ud83d\\udc4b！我是人工智能助手 ChatGLM2-6B，很高兴见到你，欢迎问我任何问题。']]"
            ]
          },
          "execution_count": 59,
          "metadata": {},
          "output_type": "execute_result"
        }
      ],
      "source": [
        "data = eval(data)\n",
        "data"
      ]
    },
    {
      "cell_type": "code",
      "execution_count": null,
      "id": "da5ec8f5",
      "metadata": {
        "hidden": true,
        "id": "da5ec8f5",
        "outputId": "782960f6-bf47-4ccf-f325-02962da731c1"
      },
      "outputs": [
        {
          "data": {
            "text/plain": [
              "[['你好', '你好！我是人工智能助手 ChatGLM2-6B，很高兴见到你，欢迎问我任何问题。']]"
            ]
          },
          "execution_count": 62,
          "metadata": {},
          "output_type": "execute_result"
        }
      ],
      "source": [
        "for i in range(len(data)):\n",
        "    data[i][1] = remove_non_utf8_chars(data[i][1])\n",
        "data"
      ]
    },
    {
      "cell_type": "markdown",
      "id": "85263342",
      "metadata": {
        "id": "85263342"
      },
      "source": [
        "# Chat函数"
      ]
    },
    {
      "cell_type": "code",
      "execution_count": null,
      "id": "c7e39ae6",
      "metadata": {
        "scrolled": true,
        "id": "c7e39ae6"
      },
      "outputs": [],
      "source": [
        "def chat(query, client, json_path):\n",
        "    try:\n",
        "        result = client.predict(\n",
        "            query, # str  in 'Input' Textbox component\n",
        "            json_path, # str (filepath to JSON file) in Chatbot component\n",
        "            fn_index=0\n",
        "        )\n",
        "\n",
        "        json_path = result[1]\n",
        "\n",
        "        with open (json_path, 'r') as f:\n",
        "            data = f.read()\n",
        "\n",
        "        data = eval(data)\n",
        "\n",
        "        for i in range(len(data)):\n",
        "            data[i][1] = remove_non_utf8_chars(data[i][1])\n",
        "\n",
        "    except Exception as e:\n",
        "        if json_path:\n",
        "            with open (json_path, 'r') as f:\n",
        "                data = f.read()\n",
        "        else:\n",
        "            data = []\n",
        "\n",
        "        data.append([query, e])\n",
        "\n",
        "    return data, json_path"
      ]
    },
    {
      "cell_type": "markdown",
      "id": "4cd3d4c8",
      "metadata": {
        "heading_collapsed": true,
        "id": "4cd3d4c8"
      },
      "source": [
        "# 常规调用方式（串行）"
      ]
    },
    {
      "cell_type": "code",
      "execution_count": null,
      "id": "09dcb906",
      "metadata": {
        "hidden": true,
        "id": "09dcb906"
      },
      "outputs": [],
      "source": [
        "json_qwen = ''\n",
        "json_chatglm2 = ''\n",
        "json_baichuan = ''"
      ]
    },
    {
      "cell_type": "code",
      "execution_count": null,
      "id": "8cc56203",
      "metadata": {
        "hidden": true,
        "id": "8cc56203"
      },
      "outputs": [],
      "source": [
        "query = \"太阳系有哪些行星？其中哪些是气态的？\""
      ]
    },
    {
      "cell_type": "code",
      "execution_count": null,
      "id": "5d49827d",
      "metadata": {
        "hidden": true,
        "id": "5d49827d",
        "outputId": "4d46479c-1c2f-4a02-b336-082871547a52",
        "colab": {
          "base_uri": "https://localhost:8080/"
        }
      },
      "outputs": [
        {
          "output_type": "stream",
          "name": "stdout",
          "text": [
            "\n",
            "Human: 太阳系有哪些行星？其中哪些是气态的？\n",
            "\n",
            "Qwen: 太阳\n",
            "\n",
            "ChatGLM2: 太阳系共有8颗行星，它们按照距离太阳的远近依次是：\n",
            "\n",
            "1. 水星（Mercury）：离太阳最近的行星，同时也是太阳系中最小的行星。它的表面温差很大，夜晚极度寒冷，白天则极度炎热。\n",
            "\n",
            "2. 金星（Venus）：金星是太阳系中第二颗行星，也是离地球最近的行星。金星的大气层厚度较大，由80%的二氧化碳和10%的云层中的硫酸组成，形成了严重的温室效应，使得金星的表面温度极高。\n",
            "\n",
            "3. 地球（Earth）：地球是我们所生活的星球，是太阳系中唯一已知存在生命的星球。地球有着丰富的水资源，气候适宜，自然环境多样。\n",
            "\n",
            "4. 火星（Mars）：火星是太阳系中重要的行星，它的表面特征与地球相似，但有所差异。火星上曾有液态水存在的迹象，因此科学家认为火星可能曾经有过适宜生命存在的条件。\n",
            "\n",
            "5. 木星（Jupiter）：木星是太阳系中最大的行星，它主要由氢和氦组成，表面温度较低。木星以其巨大而美丽的风暴而闻名，同时也是太阳系中重要的气体成分。\n",
            "\n",
            "6. 土星（Saturn）：土星是太阳系中第二大行星，也是最轻的行星。土星以其巨大而美丽的环系统著名，这些环主要由冰块和岩石组成。\n",
            "\n",
            "7. 天王星（Uranus）：天王星是太阳系中最小的行星，以其倾斜的轴线和奇特的形状而闻名。天王星的大气层主要由氢和氦组成，还有少量的甲烷和二氧化碳。\n",
            "\n",
            "8. 海王星（Neptune）：海王星是太阳系中最远的行星。它的表面主要由冰和冰块组成，还有少量的石质物质。海王星的大气层主要由氢和氦组成，还有少量的甲烷和二氧化碳。\n",
            "\n",
            "Baichuan: 太阳系共有8个行星，它们按离太阳的距离从近到远依次是：水星、金星、地球、火星、木星、土星、天王星和海王星。在这8个行星中，有4个是气态巨星，它们分别是：木星、土星、天王星和海王星。这些气态巨星主要由气体(如氢、氦)和液体组成，它们的质量和体积都非常庞大。\n",
            "\n",
            "**************************************************\n",
            "\n",
            "CPU times: user 1.74 s, sys: 267 ms, total: 2.01 s\n",
            "Wall time: 1min 21s\n"
          ]
        }
      ],
      "source": [
        "%%time\n",
        "\n",
        "data_qwen, json_qwen = chat(query, qwen_client, json_qwen)\n",
        "data_chatglm2, json_chatglm2 = chat(query, chatglm2_client, json_chatglm2)\n",
        "data_baichuan, json_baichuan = chat(query, baichuan_client, json_baichuan)\n",
        "\n",
        "for i in range(len(data_chatglm2)):\n",
        "    human = data_chatglm2[i][0]\n",
        "    qwen = data_qwen[i][1]\n",
        "    chatglm2 = data_chatglm2[i][1]\n",
        "    baichuan = data_baichuan[i][1]\n",
        "\n",
        "    print(f'\\nHuman: {human}\\n\\n' \\\n",
        "          + f'Qwen: {qwen}\\n\\n' \\\n",
        "          + f'ChatGLM2: {chatglm2}\\n\\n' \\\n",
        "          + f'Baichuan: {baichuan}\\n\\n' \\\n",
        "          + '**************************************************\\n')"
      ]
    },
    {
      "cell_type": "markdown",
      "id": "bf1aca1e",
      "metadata": {
        "id": "bf1aca1e"
      },
      "source": [
        "# Concurrent 调用方式（并行）"
      ]
    },
    {
      "cell_type": "code",
      "execution_count": null,
      "id": "cc545be8",
      "metadata": {
        "id": "cc545be8"
      },
      "outputs": [],
      "source": [
        "json_qwen = None\n",
        "json_chatglm2 = None\n",
        "json_baichuan = None"
      ]
    },
    {
      "cell_type": "code",
      "execution_count": null,
      "id": "fc55e132",
      "metadata": {
        "id": "fc55e132"
      },
      "outputs": [],
      "source": [
        "query = \"太阳系有哪些行星？其中哪些是气态的？\""
      ]
    },
    {
      "cell_type": "code",
      "execution_count": null,
      "id": "d7ba07d9",
      "metadata": {
        "scrolled": false,
        "colab": {
          "base_uri": "https://localhost:8080/"
        },
        "id": "d7ba07d9",
        "outputId": "0b6c9258-4f31-4077-cd91-9a2785f57cd4"
      },
      "outputs": [
        {
          "output_type": "stream",
          "name": "stdout",
          "text": [
            "\n",
            "Human: 太阳系有哪些行星？其中哪些是气态的？\n",
            "\n",
            "【Qwen】: 太阳\n",
            "\n",
            "【ChatGLM2】: 太阳系共有8颗行星,它们按照距离太阳的远近依次是:\n",
            "\n",
            "1. 水星(Mercury)\n",
            "2. 金星(Venus)\n",
            "3. 地球(Earth)\n",
            "4. 火星(Mars)\n",
            "5. 木星(Jupiter)\n",
            "6. 土星(Saturn)\n",
            "7. 天王星(Uranus)\n",
            "8. 海王星(Neptune)\n",
            "\n",
            "其中,水星、金星、地球和火星是气态行星,另外,木星、土星、天王星和海王星是巨行星。\n",
            "\n",
            "【Baichuan】: 太阳系有8个行星，它们按离太阳的距离从近到远依次是：水星、金星、地球、火星、木星、土星、天王星和海王星。在这8个行星中，只有木星和土星被认为是气态巨星。\n",
            "\n",
            "1. 木星(Jupiter)：木星是太阳系中最大的行星，主要由氢和氦组成。它的内部结构类似于一个巨大的气体球体，中心有一个液态金属核心。木星的大气层非常厚，主要成分是氢气和氦气，还含有少量的甲烷、水和其他化合物。\n",
            "\n",
            "2. 土星(Saturn)：土星是太阳系中第二大的行星，主要成分同样是氢和氦。与木星相似，土星也有一层厚厚的气体外壳，但它的外形更接近一个圆球。土星的大气层主要由氢气和氦气组成，还包含一定比例的甲烷和氨。\n",
            "\n",
            "这两颗气态巨星的特点是它们的质量主要集中在大气层，而地幔和地核相对较小。它们的引力较弱，因此卫星数量较多且密度较低。此外，它们的磁场强度也很大，这有助于解释它们强烈的极光现象。\n",
            "\n",
            "**************************************************\n",
            "\n",
            "CPU times: user 714 ms, sys: 117 ms, total: 830 ms\n",
            "Wall time: 29 s\n"
          ]
        }
      ],
      "source": [
        "%%time\n",
        "\n",
        "# Run the chat calls concurrently\n",
        "with concurrent.futures.ThreadPoolExecutor() as executor:\n",
        "    future_qwen = executor.submit(chat, query, qwen_client, json_qwen)\n",
        "    future_chatglm2 = executor.submit(chat, query, chatglm2_client, json_chatglm2)\n",
        "    future_baichuan = executor.submit(chat, query, baichuan_client, json_baichuan)\n",
        "\n",
        "# Get the results from the futures\n",
        "data_qwen, json_qwen = future_qwen.result()\n",
        "data_chatglm2, json_chatglm2 = future_chatglm2.result()\n",
        "data_baichuan, json_baichuan = future_baichuan.result()\n",
        "\n",
        "for i in range(len(data_qwen)):\n",
        "    human = data_qwen[i][0]\n",
        "    qwen = data_qwen[i][1]\n",
        "    chatglm2 = data_chatglm2[i][1]\n",
        "    baichuan = data_baichuan[i][1]\n",
        "\n",
        "    print(f'\\nHuman: {human}\\n\\n' \\\n",
        "          + f'【Qwen】: {qwen}\\n\\n' \\\n",
        "          + f'【ChatGLM2】: {chatglm2}\\n\\n' \\\n",
        "          + f'【Baichuan】: {baichuan}\\n\\n' \\\n",
        "          + '**************************************************\\n')"
      ]
    },
    {
      "cell_type": "code",
      "source": [],
      "metadata": {
        "id": "IyBGE80frjSe"
      },
      "id": "IyBGE80frjSe",
      "execution_count": null,
      "outputs": []
    }
  ],
  "metadata": {
    "kernelspec": {
      "display_name": "Python 3 (ipykernel)",
      "language": "python",
      "name": "python3"
    },
    "language_info": {
      "codemirror_mode": {
        "name": "ipython",
        "version": 3
      },
      "file_extension": ".py",
      "mimetype": "text/x-python",
      "name": "python",
      "nbconvert_exporter": "python",
      "pygments_lexer": "ipython3",
      "version": "3.10.10"
    },
    "colab": {
      "provenance": [],
      "include_colab_link": true
    }
  },
  "nbformat": 4,
  "nbformat_minor": 5
}